{
 "cells": [
  {
   "cell_type": "markdown",
   "metadata": {
    "colab_type": "text",
    "id": "yv8OxUW-aZuw"
   },
   "source": [
    "# Data Import and Processing"
   ]
  },
  {
   "cell_type": "markdown",
   "metadata": {
    "colab_type": "text",
    "id": "X1RZkp7AaZuy"
   },
   "source": [
    "Datasets are essential to any data science project! The more data you have, the easier it will be to identify relationships between features. However, it is also essential for the datasets to be understood by the computer before you can conduct any data analysis. Thus, the main objective of this exercise is to equip you with the required skills to import and process your dataset before any data analysis or machine learning is conducted."
   ]
  },
  {
   "cell_type": "markdown",
   "metadata": {
    "colab_type": "text",
    "id": "qo9K9fTeaZuz"
   },
   "source": [
    "## 1. Data Import"
   ]
  },
  {
   "cell_type": "markdown",
   "metadata": {
    "colab_type": "text",
    "id": "JLizB8V8aZu0"
   },
   "source": [
    "There are many websites which you can obtain data for free. Some examples of these include Kaggle (https://www.kaggle.com/) and University of California, Irvine (https://archive.ics.uci.edu/ml/datasets.html/) (UCI). We can manually download the datasets and place them in new folders on our computers. However, it may be time consuming to do so. Thus, here is a neat little trick to automate this process! The script is labelled as magic.py. Try it out!\n",
    "\n",
    "For the script to work, make sure you have the os, wget, pandas and matplotlib library installed in your python virtual environment.\n",
    "\n",
    "If you encounter an error while running the cell below, please comment out the first line: #%matplotlib qt"
   ]
  },
  {
   "cell_type": "code",
   "execution_count": 5,
   "metadata": {
    "colab": {},
    "colab_type": "code",
    "id": "48iAfPyqaZu4",
    "outputId": "c1af2433-8bf9-4ee5-dacd-df579e7e14bd"
   },
   "outputs": [
    {
     "name": "stdout",
     "output_type": "stream",
     "text": [
      "Current working directory: C:\\Users\\Shobhit\\Desktop\\work\\Experience stage - light\\Module 4\\[Work Files - Coach] Module 4\n",
      "Downloading file..........\n",
      "\n",
      "\n",
      "File has been downloaded!\n",
      "Performing super difficult data analysis..........\n"
     ]
    },
    {
     "data": {
      "image/png": "[encoded data removed]",
      "text/plain": [
       "<Figure size 432x288 with 1 Axes>"
      ]
     },
     "metadata": {},
     "output_type": "display_data"
    }
   ],
   "source": [
    "#%matplotlib qt\n",
    "%run \"magic.py\"\n"
   ]
  },
  {
   "cell_type": "markdown",
   "metadata": {
    "colab_type": "text",
    "id": "fkxfjF4paZu9"
   },
   "source": [
    "Hooray! You have successfully downloaded the data and plotted a graph without any manual intervention. Without opening the magic.py file, are you able to deduce where the data was downloaded to? The printed statements above will provide some hint!"
   ]
  },
  {
   "cell_type": "code",
   "execution_count": null,
   "metadata": {
    "colab": {},
    "colab_type": "code",
    "id": "ySGOwlZwaZu-"
   },
   "outputs": [],
   "source": []
  },
  {
   "cell_type": "markdown",
   "metadata": {
    "colab_type": "text",
    "id": "q7C9VJ9FaZvB"
   },
   "source": [
    "<font color=blue>Bonus: Does the figure look correct? Are you able to explain the negative values and the black lines on the x-axis?</font>"
   ]
  },
  {
   "cell_type": "code",
   "execution_count": null,
   "metadata": {
    "colab": {},
    "colab_type": "code",
    "id": "L3Jq2J_AaZvD"
   },
   "outputs": [],
   "source": []
  },
  {
   "cell_type": "markdown",
   "metadata": {
    "colab_type": "text",
    "id": "_ArNZ3QSaZvK"
   },
   "source": [
    "## 1.1 Downloading the Pokemon dataset"
   ]
  },
  {
   "cell_type": "markdown",
   "metadata": {
    "colab_type": "text",
    "id": "lHLWIthfaZvL"
   },
   "source": [
    "Now it is time to import a dataset on your own. The dataset to be used will be the Pokemon Image dataset.  Please spend some time going through the dataset description before attempting the next set of instructions."
   ]
  },
  {
   "cell_type": "markdown",
   "metadata": {
    "colab_type": "text",
    "id": "arxWPo20aZvN"
   },
   "source": [
    "Create a new folder to store the dataset. Write a code below to download the dataset automatically using the urllib.request.urlretrieve function to help you. You can use the code within magic.py as reference.\n",
    "\n",
    "To access the contents within magic.py, find the magic.py file in the folder. Right-click on it and open it with wordpad.\n",
    "\n",
    "Use the URL: \"http://sl2files.sustainablelivinglab.org/PokeIMG.zip\" and save it as \"PokeIMG.zip\"\n",
    "\n",
    "<font color=blue>Bonus: Download the data using only 2 lines of code!</font>"
   ]
  },
  {
   "cell_type": "code",
   "execution_count": null,
   "metadata": {
    "colab": {},
    "colab_type": "code",
    "id": "rq7PYkDHaZvP",
    "outputId": "47c343c7-8bff-49b0-d19a-82b0de4c7d5e"
   },
   "outputs": [],
   "source": [
    "!wget http://sl2files.sustainablelivinglab.org/PokeIMG.zip\n",
    "!unzip PokeIMG.zip"
   ]
  },
  {
   "cell_type": "markdown",
   "metadata": {
    "colab_type": "text",
    "id": "azsj1jXnaZvT"
   },
   "source": [
    "Well done! We now have our data downloaded! ** Make sure to extract the files from the zip file into the directory!! **\n",
    "\n",
    "\n",
    "We will now access our data and learn some of its features. To do this, let’s explore a Python library called ‘pandas’!"
   ]
  },
  {
   "cell_type": "markdown",
   "metadata": {
    "colab_type": "text",
    "id": "bPTqn9m5aZvU"
   },
   "source": [
    "## 1.2 Introduction to Pandas"
   ]
  },
  {
   "cell_type": "markdown",
   "metadata": {
    "colab_type": "text",
    "id": "SQgW_MizaZvV"
   },
   "source": [
    "Pandas is a powerful tool to import datasets. It organises data into an easily processed [dataframe](https://www.datacamp.com/community/tutorials/pandas-tutorial-dataframe-python) which allows for easy statistical analysis. \n",
    "\n",
    "Read this [article](https://towardsdatascience.com/a-quick-introduction-to-the-pandas-python-library-f1b678f34673) and watch this [video](https://www.youtube.com/watch?v=dcqPhpY7tWk) for a quick introduction to pandas: What they are, what are some applications of pandas, and how you can use it.\n",
    "\n",
    "Pay careful attention to the part about importing data and viewing data, as we will use some of the functions in our exercises later!\n",
    "\n",
    "Summarise what you learnt about Pandas in your worksheet.\n",
    "-  How do you install and use Pandas?\n",
    "-  What are the common type of files that Pandas is used for?\n",
    "-  What is a dataframe?\n",
    "-  How do you access the rows and columns in the dataframe?\n",
    "-  Name and describe some commonly used Pandas functions."
   ]
  },
  {
   "cell_type": "markdown",
   "metadata": {
    "colab_type": "text",
    "id": "7xniCy-DaZvW"
   },
   "source": [
    "ANSWER:\n",
    "- conda install pandas or pip install pandas into the python virtual environment. Remember to import pandas in the notebook.\n",
    "- Pandas can be used for both CSV files and Excel spreadsheets.\n",
    "- Dataframes are 2D data structures that have rows and columns. Dataframes are similar to how data are presented in Excel spreadsheets.\n",
    "- Rows and columns can be accessed through their names or their numbers. For example, dataframe['petal_size'] can be used to access data within the column that is labelled as \"petal_size\". Alternatively, dataframe.iloc[1] accesses data within the second row of the dataframe.\n",
    "- dataframe.head(): Returns the top few rows of the dataframe\n",
    "- dataframe.shape: Returns the dimensions of the dataframe (number of rows and columns)\n",
    "- dataframe.fillna(): Fills missing values with given values\n",
    "- dataframe.describe(): Returns basic statistics of the dataframe\n",
    "- dataframe.info(): Returns the type of data within each column"
   ]
  },
  {
   "cell_type": "markdown",
   "metadata": {
    "colab_type": "text",
    "id": "uN8GdTnsaZvX"
   },
   "source": [
    "Now, let us use some functions within Pandas to help us access data. The first step is to import Pandas. Try importing pandas as pd."
   ]
  },
  {
   "cell_type": "code",
   "execution_count": null,
   "metadata": {
    "colab": {},
    "colab_type": "code",
    "id": "yggX5E90aZva"
   },
   "outputs": [],
   "source": []
  },
  {
   "cell_type": "markdown",
   "metadata": {
    "colab_type": "text",
    "id": "ZYYgOLZ9aZvd"
   },
   "source": [
    "After importing Pandas, we will now try to read in the Iris Flower dataset. It is currently saved as a Comma Separated Values file (CSV). We will need to understand more about CSV files before we can access the data in them."
   ]
  },
  {
   "cell_type": "markdown",
   "metadata": {
    "colab_type": "text",
    "id": "7wyyOjwIaZvf"
   },
   "source": [
    "## 1.2.1 Comma Separated Values (CSV) files"
   ]
  },
  {
   "cell_type": "markdown",
   "metadata": {
    "colab_type": "text",
    "id": "bpM7sENlaZvg"
   },
   "source": [
    "Datasets are mainly stored in CSV files. CSV files contain data that are separated by comma characters or other characters. For example, a CSV file containing names of people may be stored as John,Mary,Harry,Luke. The comma between the names will tell the computer where to separate one name from the other.\n",
    "\n",
    "The files usually have a .csv extension but there are files which do not follow this extension. One example will be that of the iris data. \n",
    "\n",
    "See this [article](https://www.howtogeek.com/348960/what-is-a-csv-file-and-how-do-i-open-it/) to find out more about csv files: What are they? How to access them?"
   ]
  },
  {
   "cell_type": "code",
   "execution_count": null,
   "metadata": {
    "colab": {},
    "colab_type": "code",
    "id": "o5J2moceaZvh"
   },
   "outputs": [],
   "source": []
  },
  {
   "cell_type": "markdown",
   "metadata": {
    "colab_type": "text",
    "id": "pdkLAJ5CaZvl"
   },
   "source": [
    "<font color=blue>Bonus: After understanding the nature of CSV files, how would one check whether the data file is a CSV file? Which python function can be used to do this?</font>"
   ]
  },
  {
   "cell_type": "code",
   "execution_count": null,
   "metadata": {
    "colab": {},
    "colab_type": "code",
    "id": "WPejC5qsaZvm"
   },
   "outputs": [],
   "source": []
  },
  {
   "cell_type": "markdown",
   "metadata": {
    "colab_type": "text",
    "id": "YNHvX4LBaZvr"
   },
   "source": [
    "## 1.2.2 Pokemon image dataset"
   ]
  },
  {
   "cell_type": "markdown",
   "metadata": {
    "colab_type": "text",
    "id": "mLOEDjs3aZvs"
   },
   "source": [
    "The Iris Flower dataset is a csv file, even though it has the extension .data. Now, open the dataset using the pd.read_csv() function and assign it into a variable df. Then, print out the first 5 rows of the dataframe to see the data attribute. What do you notice?"
   ]
  },
  {
   "cell_type": "code",
   "execution_count": 24,
   "metadata": {
    "colab": {},
    "colab_type": "code",
    "id": "JUxizHumaZvt",
    "outputId": "8ccb832c-a01a-4141-f8aa-c2e65f9d98ca"
   },
   "outputs": [
    {
     "name": "stdout",
     "output_type": "stream",
     "text": [
      "            0  Type1   Type2  Power\n",
      "0   bulbasaur  Grass  Poison   64.0\n",
      "1     ivysaur  Grass  Poison   71.0\n",
      "2    venusaur  Grass  Poison   69.0\n",
      "3  charmander   Fire     NaN   58.0\n",
      "4  charmeleon   Fire     NaN   82.0\n"
     ]
    }
   ],
   "source": [
    "df = pd.read_csv(\"pokemon.csv\")\n",
    "print(df.head())"
   ]
  },
  {
   "cell_type": "code",
   "execution_count": null,
   "metadata": {
    "colab": {},
    "colab_type": "code",
    "id": "h5Fix9XLaZvw"
   },
   "outputs": [],
   "source": []
  },
  {
   "cell_type": "markdown",
   "metadata": {
    "colab_type": "text",
    "id": "wupjuXHtaZvz"
   },
   "source": [
    "Did you realise the dataframe was missing headers/column names? This happens as the original file does not have header/column names. As such, it is always important to find out more details about the data file before using it. The required header name is 'Name'. "
   ]
  },
  {
   "cell_type": "markdown",
   "metadata": {
    "colab_type": "text",
    "id": "lyt1rLJvaZv-"
   },
   "source": [
    "Now, let us try to include the names into the dataframe. It is necessary to read the data into the dataframe again to specify that the data has missing headers. This will allow us to add the names into the dataframe later. Fill in the blank of the missing header."
   ]
  },
  {
   "cell_type": "code",
   "execution_count": 2,
   "metadata": {
    "colab": {},
    "colab_type": "code",
    "id": "5QK2ge6xaZv_",
    "outputId": "9a1320a1-97b2-4bd9-f51f-2989f8d933d8"
   },
   "outputs": [
    {
     "ename": "SyntaxError",
     "evalue": "unexpected EOF while parsing (<ipython-input-2-07cb7f5f76c4>, line 4)",
     "output_type": "error",
     "traceback": [
      "\u001b[1;36m  File \u001b[1;32m\"<ipython-input-2-07cb7f5f76c4>\"\u001b[1;36m, line \u001b[1;32m4\u001b[0m\n\u001b[1;33m    names = [# Fill code]\u001b[0m\n\u001b[1;37m                         ^\u001b[0m\n\u001b[1;31mSyntaxError\u001b[0m\u001b[1;31m:\u001b[0m unexpected EOF while parsing\n"
     ]
    }
   ],
   "source": [
    "#Answer\n",
    "df = pd.read_csv(\"pokemon.csv\",header=None)\n",
    "print(df.head())\n",
    "names = [# Fill code]\n"
   ]
  },
  {
   "cell_type": "markdown",
   "metadata": {
    "colab_type": "text",
    "id": "RPLv342LaZwI"
   },
   "source": [
    "With the proper labels, you can now use pandas to obtain basic information (Number of rows and columns, type of data, number of missing values and basic statistics) about the dataset. Use .info() and .describe() to obtain basic information about the dataset!"
   ]
  },
  {
   "cell_type": "code",
   "execution_count": null,
   "metadata": {
    "colab": {},
    "colab_type": "code",
    "id": "6lOAoIHaaZwJ",
    "outputId": "9647c94a-906b-4b41-8d89-98a79df87313"
   },
   "outputs": [],
   "source": []
  },
  {
   "cell_type": "markdown",
   "metadata": {
    "colab_type": "text",
    "id": "Ru8uMMHZaZwN"
   },
   "source": [
    "Based on the information obtained, you should note that there are 150 different flowers in the dataset and that there are no missing values in the dataset."
   ]
  },
  {
   "cell_type": "markdown",
   "metadata": {
    "colab_type": "text",
    "id": "fGS8QqI8aZwO"
   },
   "source": [
    "## You have now mastered the ability to download datasets automatically and import them using Pandas. Additionally, you have also learnt how to use the Pandas functions to obtain basic information about the dataset. Now we will proceed to a class activity where you will have to put all these skills to good use!"
   ]
  }
 ],
 "metadata": {
  "colab": {
   "name": "(1) Obtaining_data.ipynb",
   "provenance": [],
   "version": "0.3.2"
  },
  "kernelspec": {
   "display_name": "Python 3",
   "language": "python",
   "name": "python3"
  },
  "language_info": {
   "codemirror_mode": {
    "name": "ipython",
    "version": 3
   },
   "file_extension": ".py",
   "mimetype": "text/x-python",
   "name": "python",
   "nbconvert_exporter": "python",
   "pygments_lexer": "ipython3",
   "version": "3.7.6"
  }
 },
 "nbformat": 4,
 "nbformat_minor": 1
}
